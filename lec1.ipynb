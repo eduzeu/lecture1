{
 "cells": [
  {
   "cell_type": "code",
   "execution_count": 3,
   "metadata": {},
   "outputs": [
    {
     "name": "stdout",
     "output_type": "stream",
     "text": [
      "float value: 3.80, int value: 3, string value: Eduardo\n"
     ]
    }
   ],
   "source": [
    "#data types \n",
    "var = 3.8\n",
    "varInt = 3\n",
    "varString = \"Eduardo\"\n",
    "print(\"float value: {0:.2f}, int value: {1:d}, string value: {2:s}\".format\n",
    "(var, varInt, varString))"
   ]
  },
  {
   "attachments": {},
   "cell_type": "markdown",
   "metadata": {},
   "source": [
    "<h2 style=\"text-align: center;\">  Quadratic Functions of Form y = ax^2 + bx + c  </h2>"
   ]
  },
  {
   "cell_type": "code",
   "execution_count": 9,
   "metadata": {},
   "outputs": [
    {
     "ename": "ModuleNotFoundError",
     "evalue": "No module named 'matplotlib'",
     "output_type": "error",
     "traceback": [
      "\u001b[1;31m---------------------------------------------------------------------------\u001b[0m",
      "\u001b[1;31mModuleNotFoundError\u001b[0m                       Traceback (most recent call last)",
      "Cell \u001b[1;32mIn[9], line 2\u001b[0m\n\u001b[0;32m      1\u001b[0m \u001b[39mimport\u001b[39;00m \u001b[39mmath\u001b[39;00m \u001b[39mas\u001b[39;00m \u001b[39mmath\u001b[39;00m \n\u001b[1;32m----> 2\u001b[0m \u001b[39mimport\u001b[39;00m \u001b[39mmatplotlib\u001b[39;00m\u001b[39m.\u001b[39;00m\u001b[39mpyplot\u001b[39;00m \u001b[39mas\u001b[39;00m \u001b[39mplt\u001b[39;00m \n\u001b[0;32m      3\u001b[0m \u001b[39mimport\u001b[39;00m \u001b[39mnumpy\u001b[39;00m \u001b[39mas\u001b[39;00m \u001b[39mnp\u001b[39;00m\n\u001b[0;32m      5\u001b[0m a, b, c \u001b[39m=\u001b[39m \u001b[39mfloat\u001b[39m(\u001b[39minput\u001b[39m(\u001b[39m\"\u001b[39m\u001b[39mWrite the values of your coefficient: \u001b[39m\u001b[39m\"\u001b[39m)\u001b[39m.\u001b[39msplit())\n",
      "\u001b[1;31mModuleNotFoundError\u001b[0m: No module named 'matplotlib'"
     ]
    }
   ],
   "source": [
    "import math as math \n",
    "import matplotlib.pyplot as plt \n",
    "import numpy as np\n",
    "\n",
    "a, b, c = float(input(\"Write the values of your coefficient: \").split())\n",
    "print(\"a, b, c are: {0:.2f}, {1:.2f}, {2:.2f}\".format(a,b,c))\n",
    "\n",
    "root1 = (-b + math.sqrt(math.pow(b,2)-4*a*c))/(2*a)\n",
    "root2 = (-b - math.sqrt(math.pow(b,2)-4*a*c))/(2*a)\n",
    "\n",
    "print(\"x intercepts: ({0:.3f},0), ({1:.3f}, 0)\".format(root1, root2))\n",
    "print(\"y intercept: (0,{0:.3f})\".format(c))\n",
    "\n",
    "discriminant = math.pow(b,2)-4*a*c\n",
    "\n",
    "if(discriminant >= 0):\n",
    "    root1 = (-b + math.sqrt(math.pow(b,2)-4*a*c))/(2*a)\n",
    "    root2 = (-b - math.sqrt(math.pow(b,2)-4*a*c))/(2*a)\n",
    "else:\n",
    "    print(\"does not have x intercepts\")\n",
    "\n"
   ]
  }
 ],
 "metadata": {
  "kernelspec": {
   "display_name": "Python 3",
   "language": "python",
   "name": "python3"
  },
  "language_info": {
   "codemirror_mode": {
    "name": "ipython",
    "version": 3
   },
   "file_extension": ".py",
   "mimetype": "text/x-python",
   "name": "python",
   "nbconvert_exporter": "python",
   "pygments_lexer": "ipython3",
   "version": "3.10.8"
  },
  "orig_nbformat": 4
 },
 "nbformat": 4,
 "nbformat_minor": 2
}
